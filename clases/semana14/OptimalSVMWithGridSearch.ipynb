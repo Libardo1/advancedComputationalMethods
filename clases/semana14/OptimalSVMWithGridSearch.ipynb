{
 "cells": [
  {
   "cell_type": "code",
   "execution_count": 1,
   "metadata": {
    "collapsed": false
   },
   "outputs": [],
   "source": [
    "import numpy as np\n",
    "import matplotlib.pyplot as plt\n",
    "from sklearn import svm\n",
    "from sklearn import datasets\n",
    "from sklearn.datasets import make_classification\n",
    "from sklearn.datasets import make_blobs, make_moons, make_circles\n",
    "from sklearn.model_selection import train_test_split\n",
    "from sklearn.metrics import confusion_matrix\n",
    "from sklearn import preprocessing\n",
    "%matplotlib inline"
   ]
  },
  {
   "cell_type": "code",
   "execution_count": 2,
   "metadata": {
    "collapsed": false,
    "scrolled": false
   },
   "outputs": [],
   "source": [
    "# Loading data \n",
    "data = datasets.load_breast_cancer()\n",
    "#print(data.DESCR)"
   ]
  },
  {
   "cell_type": "code",
   "execution_count": 3,
   "metadata": {
    "collapsed": false
   },
   "outputs": [],
   "source": [
    "# Splitting data into validation (0.2), test (0.8*0.2) & train sets (0.8*0.8)\n",
    "Y = data.target\n",
    "X = data.data\n",
    "\n",
    "X_validation, X_t, Y_validation, Y_t = train_test_split(X, Y, test_size=0.80, random_state=42)\n",
    "X_test, X_train, Y_test, Y_train = train_test_split(X_t, Y_t, test_size=0.80, random_state=42)"
   ]
  },
  {
   "cell_type": "code",
   "execution_count": 4,
   "metadata": {
    "collapsed": false
   },
   "outputs": [],
   "source": [
    "# Normalization of the data for features\n",
    "scaler = preprocessing.StandardScaler().fit(X_test)\n",
    "X_test = scaler.transform(X_test)\n",
    "\n",
    "scaler1 = preprocessing.StandardScaler().fit(X_train)\n",
    "X_train = scaler1.transform(X_train)\n",
    "\n",
    "scaler2 = preprocessing.StandardScaler().fit(X_validation)\n",
    "X_validation = scaler2.transform(X_validation)"
   ]
  },
  {
   "cell_type": "code",
   "execution_count": 5,
   "metadata": {
    "collapsed": false
   },
   "outputs": [],
   "source": [
    "ac_op = 1.0 # optimal rate of correct classification\n",
    "ft_op = 0.0 # optimal rate of false true classification\n",
    "\n",
    "# First metric - Euclidian \n",
    "\n",
    "def euclidian_norm(ft,ac):\n",
    "    return (ft-ft_op)**2+(ac-ac_op)**2 "
   ]
  },
  {
   "cell_type": "markdown",
   "metadata": {},
   "source": [
    "# Idea\n",
    "To know how the SVM method behaves through the state space of parameters, we will evaluate three types of kernels in a grid build as param1 X param2:\n",
    "    1. Gaussian: gamma related with standard deviation & C related with the level of error we can allow.\n",
    "    2. Linear: \n",
    "    3. Polynomial:\n",
    "    "
   ]
  },
  {
   "cell_type": "markdown",
   "metadata": {},
   "source": [
    "# Gaussian Kernel\n",
    "---"
   ]
  },
  {
   "cell_type": "code",
   "execution_count": 85,
   "metadata": {
    "collapsed": false
   },
   "outputs": [],
   "source": [
    "N = 20 # num of points per variable \n",
    "delta = 0.1\n",
    "CMAX = 4.0\n",
    "CMIN = 0.001\n",
    "GAMMAMAX = 1.4\n",
    "GAMMAMIN = 0.001\n",
    "\n",
    "GAMMA = np.linspace(GAMMAMIN,GAMMAMAX,N)\n",
    "C = np.linspace(CMIN,CMAX,N)\n",
    "\n",
    "grid_ft = np.zeros((N,N)) # GAMMA vs C\n",
    "grid_ac = np.zeros((N,N)) # GAMMA vs C\n",
    "\n",
    "for i in range (0,N):\n",
    "    for j in range (0,N):\n",
    "        kernel_svc = svm.SVC(C=C[j], kernel='rbf', gamma=GAMMA[i])\n",
    "        kernel_svc.fit(X_train,Y_train)\n",
    "        Y_predict = kernel_svc.predict(X_test)\n",
    "        MAT = confusion_matrix(Y_test, Y_predict)\n",
    "        grid_ft[i][j] = MAT[1][0]/sum(sum(MAT))\n",
    "        grid_ac[i][j] = (MAT[0][0]+MAT[1][1]) / sum(sum(MAT))"
   ]
  },
  {
   "cell_type": "code",
   "execution_count": 86,
   "metadata": {
    "collapsed": false
   },
   "outputs": [],
   "source": [
    "gaussian_norm = euclidian_norm(grid_ft,grid_ac)"
   ]
  },
  {
   "cell_type": "code",
   "execution_count": 87,
   "metadata": {
    "collapsed": false
   },
   "outputs": [
    {
     "data": {
      "text/plain": [
       "<matplotlib.colorbar.Colorbar at 0x112ce0978>"
      ]
     },
     "execution_count": 87,
     "metadata": {},
     "output_type": "execute_result"
    },
    {
     "data": {
      "image/png": "[encoded data removed]",
      "text/plain": [
       "<matplotlib.figure.Figure at 0x112c704a8>"
      ]
     },
     "metadata": {},
     "output_type": "display_data"
    }
   ],
   "source": [
    "plt.clf()\n",
    "plt.pcolormesh(C,GAMMA,gaussian_norm)\n",
    "plt.ylabel('$\\gamma$')\n",
    "plt.xlabel('C')\n",
    "plt.colorbar()"
   ]
  },
  {
   "cell_type": "markdown",
   "metadata": {},
   "source": [
    "We can see that for small $\\gamma$ and for almost all values of C greater than 0.5 the Euclidian metric is nearly zero. So let calculate the tf and correct classification for minimun:"
   ]
  },
  {
   "cell_type": "code",
   "execution_count": 88,
   "metadata": {
    "collapsed": false
   },
   "outputs": [
    {
     "name": "stdout",
     "output_type": "stream",
     "text": [
      "Minimun of the metric   0.00193213380027\n",
      "\n",
      "Positions where metrics has this value:   \n",
      "\n",
      "(array([0, 0, 0, 0, 0, 0, 0, 0, 0, 0, 0, 0, 0]), array([ 7,  8,  9, 10, 11, 12, 13, 14, 15, 16, 17, 18, 19]))\n"
     ]
    }
   ],
   "source": [
    "# print the positions over the grid where metric has a minimun \n",
    "print('Minimun of the metric   ' + str(gaussian_norm.min()))\n",
    "print('\\nPositions where metrics has this value:   \\n')\n",
    "print(np.where(gaussian_norm == gaussian_norm.min()))"
   ]
  },
  {
   "cell_type": "code",
   "execution_count": 91,
   "metadata": {
    "collapsed": false
   },
   "outputs": [
    {
     "name": "stdout",
     "output_type": "stream",
     "text": [
      "optimal C is : 1.47431578947\n",
      "optimal GAMMA is : 0.516421052632\n",
      "\n",
      "metric : 0.00193213380027\n",
      "FT : 0.0 %\n",
      "Correct : 95.6043956044 %\n",
      "TF : 4.3956043956 %\n"
     ]
    }
   ],
   "source": [
    "# So let me choose the first (the lowest values of C & GAMMA)\n",
    "print('optimal C is : '+ str(C[7]))\n",
    "print('optimal GAMMA is : '+ str(GAMMA[7]))\n",
    "kernel_svc = svm.SVC(C=C[7], kernel='rbf', gamma=GAMMA[0])\n",
    "kernel_svc.fit(X_train,Y_train)\n",
    "Y_predict = kernel_svc.predict(X_test)\n",
    "MAT = confusion_matrix(Y_test, Y_predict)\n",
    "FT_G = MAT[1][0]/sum(sum(MAT))\n",
    "CORRECT_G = (MAT[0][0] + MAT[1][1]) / sum(sum(MAT))\n",
    "TF_G = MAT[0][1] / sum(sum(MAT))\n",
    "print('\\nmetric : ' +str(euclidian_norm(FT_G,CORRECT_G)))\n",
    "print('FT : ' + str(FT_G*100)+' %')\n",
    "print('Correct : ' + str(CORRECT_G*100)+' %')\n",
    "print('TF : ' + str(TF_G *100)+' %')"
   ]
  },
  {
   "cell_type": "markdown",
   "metadata": {},
   "source": [
    "# Lineal Kernel\n",
    "---"
   ]
  },
  {
   "cell_type": "code",
   "execution_count": 105,
   "metadata": {
    "collapsed": false
   },
   "outputs": [],
   "source": [
    "N = 100 # num of points per variable \n",
    "CMAX = 4.0\n",
    "CMIN = 0.001\n",
    "\n",
    "C = np.linspace(CMIN,CMAX,N)\n",
    "\n",
    "grid_ft = np.zeros(N) \n",
    "grid_ac = np.zeros(N) \n",
    "\n",
    "for i in range (0,N):\n",
    "    linear_svc = svm.SVC(C=C[i], kernel='linear')\n",
    "    linear_svc.fit(X_train,Y_train)\n",
    "    Y_predict = kernel_svc.predict(X_test)\n",
    "    MAT = confusion_matrix(Y_test, Y_predict)\n",
    "    grid_ft[i] = MAT[1][0]/sum(sum(MAT))\n",
    "    grid_ac[i] = (MAT[0][0]+MAT[1][1]) / sum(sum(MAT))"
   ]
  },
  {
   "cell_type": "code",
   "execution_count": 106,
   "metadata": {
    "collapsed": false
   },
   "outputs": [],
   "source": [
    "linear_norm = euclidian_norm(grid_ft,grid_ac)"
   ]
  },
  {
   "cell_type": "code",
   "execution_count": 117,
   "metadata": {
    "collapsed": false
   },
   "outputs": [
    {
     "data": {
      "text/plain": [
       "<matplotlib.text.Text at 0x112d6ed68>"
      ]
     },
     "execution_count": 117,
     "metadata": {},
     "output_type": "execute_result"
    },
    {
     "data": {
      "image/png": "[encoded data removed]",
      "text/plain": [
       "<matplotlib.figure.Figure at 0x112d72a20>"
      ]
     },
     "metadata": {},
     "output_type": "display_data"
    }
   ],
   "source": [
    "plt.plot(C,linear_norm)\n",
    "plt.ylabel('Eucliden Norm')\n",
    "plt.xlabel('C')"
   ]
  },
  {
   "cell_type": "markdown",
   "metadata": {},
   "source": [
    "We can see that for all values of C the Euclidian metric has the same value. So let calculate the tf and correct classification for minimun:"
   ]
  },
  {
   "cell_type": "code",
   "execution_count": 122,
   "metadata": {
    "collapsed": false
   },
   "outputs": [
    {
     "name": "stdout",
     "output_type": "stream",
     "text": [
      "Minimun of the metric   0.00193213380027\n",
      "\n",
      "Positions where metrics has this value:   \n",
      "\n",
      "(array([   0,    1,    2, ..., 9997, 9998, 9999]),)\n"
     ]
    }
   ],
   "source": [
    "# print the positions over the grid where metric has a minimun \n",
    "print('Minimun of the metric   ' + str(linear_norm.min()))\n",
    "print('\\nPositions where metrics has this value:   \\n')\n",
    "print(np.where(linear_norm == linear_norm.min()))"
   ]
  },
  {
   "cell_type": "code",
   "execution_count": 126,
   "metadata": {
    "collapsed": false
   },
   "outputs": [
    {
     "name": "stdout",
     "output_type": "stream",
     "text": [
      "optimal C is : 0.0100109990999\n",
      "\n",
      "metric : 0.00193213380027\n",
      "FT : 0.0 %\n",
      "Correct : 95.6043956044 %\n",
      "TF : 4.3956043956 %\n"
     ]
    }
   ],
   "source": [
    "print('optimal C is : '+ str(C[1]))\n",
    "linear_svc = svm.SVC(C=C[1], kernel='linear')\n",
    "kernel_svc.fit(X_train,Y_train)\n",
    "Y_predict = kernel_svc.predict(X_test)\n",
    "MAT = confusion_matrix(Y_test, Y_predict)\n",
    "FT_L = MAT[1][0]/sum(sum(MAT))\n",
    "CORRECT_L = (MAT[0][0] + MAT[1][1]) / sum(sum(MAT))\n",
    "TF_L = MAT[0][1] / sum(sum(MAT))\n",
    "print('\\nmetric : ' +str(euclidian_norm(FT_L,CORRECT_L)))\n",
    "print('FT : ' + str(FT_L*100)+' %')\n",
    "print('Correct : ' + str(CORRECT_L*100)+' %')\n",
    "print('TF : ' + str(TF_L *100)+' %')"
   ]
  },
  {
   "cell_type": "markdown",
   "metadata": {},
   "source": [
    "# Polynomial\n",
    "---"
   ]
  },
  {
   "cell_type": "code",
   "execution_count": 162,
   "metadata": {
    "collapsed": false
   },
   "outputs": [],
   "source": [
    "N = 100 # num of points per variable \n",
    "CMAX = 5.0\n",
    "CMIN = 0.001\n",
    "DMIN = 1\n",
    "DMAX = 15\n",
    "DN = 50\n",
    "C = np.linspace(CMIN,CMAX,N)\n",
    "D = np.linspace(DMIN,DMAX,DN)\n",
    "\n",
    "grid_ft = np.zeros((N,DN)) \n",
    "grid_ac = np.zeros((N,DN)) \n",
    "\n",
    "for i in range (0,N):\n",
    "    for j in range (0,DN):\n",
    "        kernel_svc = svm.SVC(C=C[i], kernel='poly', degree=D[j])\n",
    "        kernel_svc.fit(X_train,Y_train)\n",
    "        Y_predict = kernel_svc.predict(X_test)\n",
    "        MAT = confusion_matrix(Y_test, Y_predict)\n",
    "        grid_ft[i][j] = MAT[1][0]/sum(sum(MAT))\n",
    "        grid_ac[i][j] = (MAT[0][0]+MAT[1][1]) / sum(sum(MAT))"
   ]
  },
  {
   "cell_type": "code",
   "execution_count": 163,
   "metadata": {
    "collapsed": true
   },
   "outputs": [],
   "source": [
    "poly_norm = euclidian_norm(grid_ft,grid_ac)"
   ]
  },
  {
   "cell_type": "code",
   "execution_count": 164,
   "metadata": {
    "collapsed": false
   },
   "outputs": [
    {
     "data": {
      "text/plain": [
       "<matplotlib.colorbar.Colorbar at 0x1157ed048>"
      ]
     },
     "execution_count": 164,
     "metadata": {},
     "output_type": "execute_result"
    },
    {
     "data": {
      "image/png": "[encoded data removed]",
      "text/plain": [
       "<matplotlib.figure.Figure at 0x115775da0>"
      ]
     },
     "metadata": {},
     "output_type": "display_data"
    }
   ],
   "source": [
    "plt.clf()\n",
    "plt.pcolormesh(D,C,poly_norm)\n",
    "plt.ylabel('C')\n",
    "plt.xlabel('Degree')\n",
    "plt.colorbar()"
   ]
  },
  {
   "cell_type": "markdown",
   "metadata": {},
   "source": [
    "We can see that for small Degree of polynomial and for almost all values of C greater the Euclidian metric is nearly zero. So let calculate the tf and correct classification for minimun:"
   ]
  },
  {
   "cell_type": "code",
   "execution_count": 165,
   "metadata": {
    "collapsed": false
   },
   "outputs": [
    {
     "name": "stdout",
     "output_type": "stream",
     "text": [
      "Minimun of the metric   0.00108682526265\n",
      "\n",
      "Positions where metrics has this value:   \n",
      "\n",
      "(array([ 7,  7,  7,  7,  9,  9,  9,  9, 10, 10, 10, 10, 11, 11, 11, 11, 12,\n",
      "       12, 12, 12, 13, 13, 13, 13, 14, 14, 14, 14, 15, 15, 15, 15, 16, 16,\n",
      "       16, 16, 17, 17, 17, 17, 18, 18, 18, 18, 19, 19, 19, 19, 20, 20, 20,\n",
      "       20, 21, 21, 21, 21, 22, 22, 22, 22, 23, 23, 23, 23, 24, 24, 24, 24,\n",
      "       25, 25, 25, 25, 26, 26, 26, 26, 27, 27, 27, 27, 28, 28, 28, 28, 29,\n",
      "       29, 29, 29, 30, 30, 30, 30, 31, 31, 31, 31, 32, 32, 32, 32, 33, 33,\n",
      "       33, 33, 34, 34, 34, 34, 35, 35, 35, 35, 36, 36, 36, 36, 37, 37, 37,\n",
      "       37, 38, 38, 38, 38, 39, 39, 39, 39, 40, 40, 40, 40, 41, 41, 41, 41,\n",
      "       42, 42, 42, 42, 43, 43, 43, 43, 44, 44, 44, 44, 45, 45, 45, 45, 46,\n",
      "       46, 46, 46, 47, 47, 47, 47, 48, 48, 48, 48, 49, 49, 49, 49, 50, 50,\n",
      "       50, 50, 51, 51, 51, 51, 52, 52, 52, 52, 53, 53, 53, 53, 54, 54, 54,\n",
      "       54, 55, 55, 55, 55, 56, 56, 56, 56, 57, 57, 57, 57, 58, 58, 58, 58,\n",
      "       59, 59, 59, 59, 60, 60, 60, 60, 61, 61, 61, 61, 62, 62, 62, 62, 63,\n",
      "       63, 63, 63, 64, 64, 64, 64, 65, 65, 65, 65, 66, 66, 66, 66, 67, 67,\n",
      "       67, 67, 68, 68, 68, 68, 69, 69, 69, 69, 70, 70, 70, 70, 71, 71, 71,\n",
      "       71, 72, 72, 72, 72, 73, 73, 73, 73, 74, 74, 74, 74, 75, 75, 75, 75,\n",
      "       76, 76, 76, 76, 77, 77, 77, 77, 78, 78, 78, 78, 79, 79, 79, 79, 80,\n",
      "       80, 80, 80, 81, 81, 81, 81, 82, 82, 82, 82, 83, 83, 83, 83, 84, 84,\n",
      "       84, 84, 85, 85, 85, 85, 86, 86, 86, 86, 87, 87, 87, 87, 88, 88, 88,\n",
      "       88, 89, 89, 89, 89, 90, 90, 90, 90, 91, 91, 91, 91, 92, 92, 92, 92,\n",
      "       93, 93, 93, 93, 94, 94, 94, 94, 95, 95, 95, 95, 96, 96, 96, 96, 97,\n",
      "       97, 97, 97, 98, 98, 98, 98, 99, 99, 99, 99]), array([0, 1, 2, 3, 0, 1, 2, 3, 0, 1, 2, 3, 0, 1, 2, 3, 0, 1, 2, 3, 0, 1, 2,\n",
      "       3, 0, 1, 2, 3, 0, 1, 2, 3, 0, 1, 2, 3, 0, 1, 2, 3, 0, 1, 2, 3, 0, 1,\n",
      "       2, 3, 0, 1, 2, 3, 0, 1, 2, 3, 0, 1, 2, 3, 0, 1, 2, 3, 0, 1, 2, 3, 0,\n",
      "       1, 2, 3, 0, 1, 2, 3, 0, 1, 2, 3, 0, 1, 2, 3, 0, 1, 2, 3, 0, 1, 2, 3,\n",
      "       0, 1, 2, 3, 0, 1, 2, 3, 0, 1, 2, 3, 0, 1, 2, 3, 0, 1, 2, 3, 0, 1, 2,\n",
      "       3, 0, 1, 2, 3, 0, 1, 2, 3, 0, 1, 2, 3, 0, 1, 2, 3, 0, 1, 2, 3, 0, 1,\n",
      "       2, 3, 0, 1, 2, 3, 0, 1, 2, 3, 0, 1, 2, 3, 0, 1, 2, 3, 0, 1, 2, 3, 0,\n",
      "       1, 2, 3, 0, 1, 2, 3, 0, 1, 2, 3, 0, 1, 2, 3, 0, 1, 2, 3, 0, 1, 2, 3,\n",
      "       0, 1, 2, 3, 0, 1, 2, 3, 0, 1, 2, 3, 0, 1, 2, 3, 0, 1, 2, 3, 0, 1, 2,\n",
      "       3, 0, 1, 2, 3, 0, 1, 2, 3, 0, 1, 2, 3, 0, 1, 2, 3, 0, 1, 2, 3, 0, 1,\n",
      "       2, 3, 0, 1, 2, 3, 0, 1, 2, 3, 0, 1, 2, 3, 0, 1, 2, 3, 0, 1, 2, 3, 0,\n",
      "       1, 2, 3, 0, 1, 2, 3, 0, 1, 2, 3, 0, 1, 2, 3, 0, 1, 2, 3, 0, 1, 2, 3,\n",
      "       0, 1, 2, 3, 0, 1, 2, 3, 0, 1, 2, 3, 0, 1, 2, 3, 0, 1, 2, 3, 0, 1, 2,\n",
      "       3, 0, 1, 2, 3, 0, 1, 2, 3, 0, 1, 2, 3, 0, 1, 2, 3, 0, 1, 2, 3, 0, 1,\n",
      "       2, 3, 0, 1, 2, 3, 0, 1, 2, 3, 0, 1, 2, 3, 0, 1, 2, 3, 0, 1, 2, 3, 0,\n",
      "       1, 2, 3, 0, 1, 2, 3, 0, 1, 2, 3, 0, 1, 2, 3, 0, 1, 2, 3, 0, 1, 2, 3]))\n"
     ]
    }
   ],
   "source": [
    "# print the positions over the grid where metric has a minimun \n",
    "print('Minimun of the metric   ' + str(poly_norm.min()))\n",
    "print('\\nPositions where metrics has this value:   \\n')\n",
    "print(np.where(poly_norm == poly_norm.min()))"
   ]
  },
  {
   "cell_type": "code",
   "execution_count": 166,
   "metadata": {
    "collapsed": false
   },
   "outputs": [
    {
     "name": "stdout",
     "output_type": "stream",
     "text": [
      "optimal C is : 0.354464646465\n",
      "optimal Degree is : 1.0\n",
      "\n",
      "metric : 0.00108682526265\n",
      "FT : 0.0 %\n",
      "Correct : 96.7032967033 %\n",
      "TF : 3.2967032967 %\n"
     ]
    }
   ],
   "source": [
    "# So let me choose the first (the lowest values of C & GAMMA)\n",
    "print('optimal C is : '+ str(C[7]))\n",
    "print('optimal Degree is : '+ str(D[0]))\n",
    "kernel_svc = svm.SVC(C=C[7], kernel='poly', degree=D[0])\n",
    "kernel_svc.fit(X_train,Y_train)\n",
    "Y_predict = kernel_svc.predict(X_test)\n",
    "MAT = confusion_matrix(Y_test, Y_predict)\n",
    "FT_P = MAT[1][0]/sum(sum(MAT))\n",
    "CORRECT_P = (MAT[0][0] + MAT[1][1]) / sum(sum(MAT))\n",
    "TF_P = MAT[0][1] / sum(sum(MAT))\n",
    "print('\\nmetric : ' +str(euclidian_norm(FT_P,CORRECT_P)))\n",
    "print('FT : ' + str(FT_P*100)+' %')\n",
    "print('Correct : ' + str(CORRECT_P*100)+' %')\n",
    "print('TF : ' + str(TF_P *100)+' %')"
   ]
  },
  {
   "cell_type": "code",
   "execution_count": null,
   "metadata": {
    "collapsed": true
   },
   "outputs": [],
   "source": []
  }
 ],
 "metadata": {
  "anaconda-cloud": {},
  "kernelspec": {
   "display_name": "Python [Root]",
   "language": "python",
   "name": "Python [Root]"
  },
  "language_info": {
   "codemirror_mode": {
    "name": "ipython",
    "version": 3
   },
   "file_extension": ".py",
   "mimetype": "text/x-python",
   "name": "python",
   "nbconvert_exporter": "python",
   "pygments_lexer": "ipython3",
   "version": "3.5.2"
  }
 },
 "nbformat": 4,
 "nbformat_minor": 0
}
