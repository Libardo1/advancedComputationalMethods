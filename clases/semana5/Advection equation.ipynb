{
 "cells": [
  {
   "cell_type": "code",
   "execution_count": 1,
   "metadata": {
    "collapsed": false
   },
   "outputs": [
    {
     "name": "stdout",
     "output_type": "stream",
     "text": [
      "Populating the interactive namespace from numpy and matplotlib\n"
     ]
    }
   ],
   "source": [
    "pylab inline "
   ]
  },
  {
   "cell_type": "code",
   "execution_count": 56,
   "metadata": {
    "collapsed": true
   },
   "outputs": [],
   "source": [
    "a = 300\n",
    "tmax = 0.45\n",
    "deltax = 5\n",
    "deltat = 0.015\n"
   ]
  },
  {
   "cell_type": "code",
   "execution_count": 57,
   "metadata": {
    "collapsed": false
   },
   "outputs": [],
   "source": [
    "def initial(x):\n",
    "    ii = (50<=x) & (x<=110)\n",
    "    initial = np.zeros(len(x))\n",
    "    initial[ii] = 100*np.sin(np.pi()*(x-50)/60)    \n",
    "    return initial"
   ]
  },
  {
   "cell_type": "code",
   "execution_count": 58,
   "metadata": {
    "collapsed": false
   },
   "outputs": [
    {
     "data": {
      "text/plain": [
       "array([   0.,    5.,   10.,   15.,   20.,   25.,   30.,   35.,   40.,\n",
       "         45.,   50.,   55.,   60.,   65.,   70.,   75.,   80.,   85.,\n",
       "         90.,   95.,  100.,  105.,  110.,  115.,  120.,  125.,  130.,\n",
       "        135.,  140.,  145.,  150.,  155.,  160.,  165.,  170.,  175.,\n",
       "        180.,  185.,  190.,  195.,  200.,  205.,  210.,  215.,  220.,\n",
       "        225.,  230.,  235.,  240.,  245.,  250.,  255.,  260.,  265.,\n",
       "        270.,  275.,  280.,  285.,  290.,  295.,  300.])"
      ]
     },
     "execution_count": 58,
     "metadata": {},
     "output_type": "execute_result"
    }
   ],
   "source": [
    "xmin = 0\n",
    "xmax = 300\n",
    "points = (xmax-xmin)/deltax+1\n",
    "x = linspace(xmin,xmax,points)\n",
    "x"
   ]
  },
  {
   "cell_type": "code",
   "execution_count": 59,
   "metadata": {
    "collapsed": false
   },
   "outputs": [],
   "source": [
    "ii = (50<=x) & (x<=110)\n",
    "initial = np.zeros(len(x))\n",
    "initial[ii] = 100*np.sin(np.pi*(x[ii]-50)/60)  "
   ]
  },
  {
   "cell_type": "code",
   "execution_count": 60,
   "metadata": {
    "collapsed": true
   },
   "outputs": [],
   "source": [
    "def FTFS(u_ini,a,tmax,deltax,deltat):\n",
    "    for n in range(1,tmax):\n",
    "        for i in range(1,len(u_ini)):\n",
    "            u_new(i)"
   ]
  },
  {
   "cell_type": "code",
   "execution_count": null,
   "metadata": {
    "collapsed": true
   },
   "outputs": [],
   "source": []
  }
 ],
 "metadata": {
  "kernelspec": {
   "display_name": "Python 2",
   "language": "python",
   "name": "python2"
  },
  "language_info": {
   "codemirror_mode": {
    "name": "ipython",
    "version": 2
   },
   "file_extension": ".py",
   "mimetype": "text/x-python",
   "name": "python",
   "nbconvert_exporter": "python",
   "pygments_lexer": "ipython2",
   "version": "2.7.6"
  }
 },
 "nbformat": 4,
 "nbformat_minor": 0
}
